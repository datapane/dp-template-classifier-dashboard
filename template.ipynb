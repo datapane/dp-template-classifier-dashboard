{
 "cells": [
  {
   "cell_type": "markdown",
   "id": "50021645-0cfd-49b7-a837-ccb72511dfd1",
   "metadata": {},
   "source": [
    "# Classifier performance dashboard"
   ]
  },
  {
   "cell_type": "code",
   "execution_count": 1,
   "id": "c6c286a7-cf43-4119-8484-faf5803fa29d",
   "metadata": {},
   "outputs": [],
   "source": [
    "import altair as alt\n",
    "import datapane as dp\n",
    "import json\n",
    "import matplotlib.pyplot as plt\n",
    "import numpy as np\n",
    "import pandas as pd\n",
    "from sklearn.metrics import confusion_matrix, precision_score, recall_score, f1_score\n",
    "plt.ioff();"
   ]
  },
  {
   "cell_type": "markdown",
   "id": "1182af6b-e174-4ff7-84e6-8fa5659d098e",
   "metadata": {},
   "source": [
    "## Wrangling and visualisation functions"
   ]
  },
  {
   "cell_type": "code",
   "execution_count": 2,
   "id": "1d04643c-4307-4a73-8d84-795d8e1c21e4",
   "metadata": {},
   "outputs": [],
   "source": [
    "def predictions_to_df(id_test, y_test, predictions):\n",
    "    df_predictions = pd.DataFrame(\n",
    "        {\n",
    "            \"sample\": id_test,\n",
    "            \"true class\": y_test,\n",
    "            \"predicted class\": predictions,\n",
    "        },\n",
    "        index=id_test,\n",
    "    )\n",
    "\n",
    "    df_predictions[\"true positive\"] = (\n",
    "        df_predictions[\"true class\"] == df_predictions[\"predicted class\"]\n",
    "    )\n",
    "    return df_predictions"
   ]
  },
  {
   "cell_type": "code",
   "execution_count": 3,
   "id": "f3060de3-e4e4-4106-9c72-716a44e979df",
   "metadata": {},
   "outputs": [],
   "source": [
    "def plot_banner(X_test, y_test):\n",
    "    cm_sequential = [\n",
    "        \"Purples\",\n",
    "        \"Blues\",\n",
    "        \"Greens\",\n",
    "        \"YlOrBr\",\n",
    "        \"OrRd\",\n",
    "        \"PuRd\",\n",
    "        \"RdPu\",\n",
    "        \"BuPu\",\n",
    "        \"GnBu\",\n",
    "        \"PuBu\",\n",
    "        \"YlGnBu\",\n",
    "        \"PuBuGn\",\n",
    "        \"BuGn\",\n",
    "        \"YlGn\",\n",
    "    ]\n",
    "\n",
    "    plt_banner, axes = plt.subplots(ncols=26, nrows=2, figsize=(26, 2))\n",
    "    for ax, image, truth in zip(axes.flatten(), np.array(X_test), y_test):\n",
    "        ax.set_axis_off()\n",
    "        image = image.reshape(8, 8)\n",
    "        ax.imshow(\n",
    "            image, cmap=plt.cm.get_cmap(cm_sequential[truth]), interpolation=\"nearest\"\n",
    "        )\n",
    "    plt_banner.tight_layout()\n",
    "    plt.close()\n",
    "    return plt_banner"
   ]
  },
  {
   "cell_type": "code",
   "execution_count": 4,
   "id": "de46f470-7ce3-4419-b8ed-6f22f2b39402",
   "metadata": {},
   "outputs": [],
   "source": [
    "def plot_confusion_matrix(y_test, predictions, class_labels):\n",
    "    cm_x, cm_y = np.meshgrid(class_labels, class_labels)\n",
    "    cm = confusion_matrix(y_test, predictions)\n",
    "    df_cm = pd.DataFrame(\n",
    "        {\n",
    "            \"Predicted\": cm_x.ravel(),\n",
    "            \"True\": cm_y.ravel(),\n",
    "            \"z\": cm.ravel(),\n",
    "        }\n",
    "    )\n",
    "\n",
    "    heatmap = (\n",
    "        alt.Chart(df_cm)\n",
    "        .mark_rect()\n",
    "        .encode(x=\"Predicted:O\", y=\"True:O\", color=\"z:Q\")\n",
    "        .properties(width=\"container\", height=416)\n",
    "    )\n",
    "\n",
    "    text = heatmap.mark_text(baseline=\"middle\").encode(\n",
    "        text=\"z:Q\",\n",
    "        color=alt.condition(alt.datum.z < 50, alt.value(\"gray\"), alt.value(\"white\")),\n",
    "    )\n",
    "\n",
    "    fig = heatmap + text\n",
    "    return fig, cm"
   ]
  },
  {
   "cell_type": "code",
   "execution_count": 5,
   "id": "06845558-56da-4c74-b58b-16ec20282cda",
   "metadata": {},
   "outputs": [],
   "source": [
    "def plot_preview(X_test, predictions, y_test):\n",
    "    fig, axes = plt.subplots(ncols=16, nrows=14, figsize=(11, 10))\n",
    "    for ax, image, prediction, truth in zip(\n",
    "        axes.flatten(), np.array(X_test), predictions, y_test\n",
    "    ):\n",
    "        ax.set_axis_off()\n",
    "        image = image.reshape(8, 8)\n",
    "        if prediction == truth:\n",
    "            col = plt.cm.gray_r\n",
    "        else:\n",
    "            col = plt.cm.Reds\n",
    "        ax.imshow(image, cmap=col, interpolation=\"nearest\")\n",
    "        ax.set_title(f\"pred: {prediction}\")\n",
    "    fig.tight_layout()\n",
    "    plt.close()\n",
    "    return fig"
   ]
  },
  {
   "cell_type": "code",
   "execution_count": 6,
   "id": "8a6b0d57-2f20-435b-a298-a33f473b7033",
   "metadata": {},
   "outputs": [],
   "source": [
    "def plot_tp_trade_offs(df_tp_trade_offs, class_labels):\n",
    "    df_tp_trade_offs[\"clf_name\"] = df_tp_trade_offs.index\n",
    "    fig = (\n",
    "        alt.Chart(df_tp_trade_offs)\n",
    "        .transform_window(index=\"count()\")\n",
    "        .transform_fold(class_labels)\n",
    "        .mark_line()\n",
    "        .encode(\n",
    "            x=alt.X(\n",
    "                \"key:N\",\n",
    "                scale=alt.Scale(\n",
    "                    zero=False,\n",
    "                    padding=0,\n",
    "                ),\n",
    "                axis=alt.Axis(grid=True),\n",
    "                title=\"Digit\",\n",
    "            ),\n",
    "            y=alt.Y(\"value:Q\", scale=alt.Scale(zero=False), title=\"True Positives\"),\n",
    "            color=alt.Color(\"clf_name:N\", scale=alt.Scale(scheme=\"viridis\")),\n",
    "            detail=\"clf_name:N\",\n",
    "            strokeWidth=alt.value(3),\n",
    "            opacity=alt.value(0.7),\n",
    "            tooltip=[\"clf_name:N\", \"key:N\", \"value:Q\"],\n",
    "        )\n",
    "        .configure_legend(orient=\"top\", title=None)\n",
    "        .properties(width=\"container\", height=200)\n",
    "    )\n",
    "    return fig"
   ]
  },
  {
   "cell_type": "markdown",
   "id": "cd80467c-93b4-41fa-9e91-ac38dec00904",
   "metadata": {},
   "source": [
    "# Report blocks functions"
   ]
  },
  {
   "cell_type": "code",
   "execution_count": 7,
   "id": "ef9d1e70-7a3f-46a1-9a20-ec92e8e1a22f",
   "metadata": {},
   "outputs": [],
   "source": [
    "def build_metrics_group(y_test, predictions):\n",
    "    metrics_block = dp.Group(\n",
    "        dp.BigNumber(\n",
    "            \"Precision\",\n",
    "            value=\"{:.2f}\".format(\n",
    "                precision_score(y_test, predictions, average=\"weighted\")\n",
    "            ),\n",
    "        ),\n",
    "        dp.BigNumber(\n",
    "            \"Recall\",\n",
    "            value=\"{:.2f}\".format(\n",
    "                recall_score(y_test, predictions, average=\"weighted\")\n",
    "            ),\n",
    "        ),\n",
    "        dp.BigNumber(\n",
    "            \"F1-score\",\n",
    "            value=\"{:.2f}\".format(f1_score(y_test, predictions, average=\"weighted\")),\n",
    "        ),\n",
    "        columns=3,\n",
    "    )\n",
    "    return metrics_block"
   ]
  },
  {
   "cell_type": "code",
   "execution_count": 8,
   "id": "8abb32f0-1a0e-456c-801e-83244b27e4ef",
   "metadata": {},
   "outputs": [],
   "source": [
    "def build_narrative_block(clf_name):\n",
    "    narrative_block = dp.Text(file=f\"./assets/discussion/{clf_name}.md\").format(\n",
    "        clf_name=clf_name.lower(),\n",
    "        repo=dp.Code(\n",
    "            code=f\"git clone https://github.com/datapane/{clf_name.lower()}-digits.git\",\n",
    "            language=\"bash\",\n",
    "        ),\n",
    "    )\n",
    "    return narrative_block"
   ]
  },
  {
   "cell_type": "code",
   "execution_count": 9,
   "id": "b0da025a-16f6-4cec-96b0-e05802fb4ca5",
   "metadata": {},
   "outputs": [],
   "source": [
    "def build_visualization_blocks(plt_cm, df_predictions, plt_preview):\n",
    "    visualization_blocks = dp.Select(\n",
    "        blocks=[\n",
    "            dp.Plot(plt_cm, label=\"Confusion Matrix\"),\n",
    "            dp.DataTable(df_predictions, label=\"Predictions\"),\n",
    "            dp.Plot(plt_preview, label=\"Preview\"),\n",
    "        ],\n",
    "        label=\"Tabs\",\n",
    "        type=dp.SelectType.TABS,\n",
    "    )\n",
    "    return visualization_blocks"
   ]
  },
  {
   "cell_type": "markdown",
   "id": "8e9d0ebd-8890-4310-80ad-4796bd466223",
   "metadata": {},
   "source": [
    "# Load and wrangle data"
   ]
  },
  {
   "cell_type": "code",
   "execution_count": 10,
   "id": "ef7c881d-bcdc-49d6-9694-5ab23b4d46fd",
   "metadata": {},
   "outputs": [],
   "source": [
    "with open(\"./assets/results.json\", \"r\") as f:\n",
    "    results = json.load(f)\n",
    "    \n",
    "X_test = results['X_test']\n",
    "y_test = results['y_test']\n",
    "id_test = results['id_test']\n",
    "predictions = results['predictions']\n",
    "class_labels = [str(x) for x in range(0, 10)]\n",
    "df_tp_trade_offs = pd.DataFrame(columns=class_labels)"
   ]
  },
  {
   "cell_type": "markdown",
   "id": "07d847ef-cc0c-4c09-af18-c6234cac6c8e",
   "metadata": {},
   "source": [
    "# Build classifier pages"
   ]
  },
  {
   "cell_type": "code",
   "execution_count": 12,
   "id": "c960fa8b-dfcb-4371-896f-04a47913a92f",
   "metadata": {},
   "outputs": [],
   "source": [
    "classifier_pages = {}\n",
    "\n",
    "for clf_name in predictions.keys():\n",
    "\n",
    "    # wrangle results into dataframe\n",
    "    df_predictions = predictions_to_df(id_test, y_test, predictions[clf_name])\n",
    "\n",
    "    # generate confusion matrix\n",
    "    plt_cm, cm = plot_confusion_matrix(y_test, predictions[clf_name], class_labels)\n",
    "\n",
    "    # assign TP vector\n",
    "    df_tp_trade_offs.loc[clf_name, class_labels] = pd.Series(cm.diagonal()).values\n",
    "\n",
    "    # generate preview image\n",
    "    plt_preview = plot_preview(X_test, predictions[clf_name], y_test)\n",
    "\n",
    "    # build page\n",
    "    classifier_pages[clf_name] = dp.Group(\n",
    "        build_metrics_group(y_test, predictions[clf_name]),\n",
    "        dp.Group(\n",
    "            dp.Group(\n",
    "                build_narrative_block(clf_name),\n",
    "                build_visualization_blocks(plt_cm, df_predictions, plt_preview),\n",
    "                columns=2,\n",
    "            )\n",
    "        ),\n",
    "        label=clf_name,\n",
    "    )"
   ]
  },
  {
   "cell_type": "markdown",
   "id": "41ec8095-281a-4642-911d-233e2465574b",
   "metadata": {},
   "source": [
    "# Build header and overview blocks"
   ]
  },
  {
   "cell_type": "code",
   "execution_count": 13,
   "id": "cd1b04e3-fa25-46aa-a7ba-cdd66fd56188",
   "metadata": {},
   "outputs": [],
   "source": [
    "# build banner block\n",
    "banner_block = dp.Plot(plot_banner(X_test, y_test))\n",
    "\n",
    "# generate trade-off plot\n",
    "trade_offs_block = dp.Plot(plot_tp_trade_offs(df_tp_trade_offs, class_labels))"
   ]
  },
  {
   "cell_type": "markdown",
   "id": "1a60b736-ad92-4922-b9cb-e108874f28a1",
   "metadata": {},
   "source": [
    "# Build report"
   ]
  },
  {
   "cell_type": "code",
   "execution_count": 14,
   "id": "f786ca16-35ab-416c-94dc-87e68ce57518",
   "metadata": {},
   "outputs": [
    {
     "data": {
      "text/markdown": [
       "Report saved to ./template.html"
      ],
      "text/plain": [
       "<IPython.core.display.Markdown object>"
      ]
     },
     "metadata": {},
     "output_type": "display_data"
    },
    {
     "data": {
      "text/markdown": [
       "How is your experience of Datapane? Please take two minutes to answer our anonymous product survey <a href='https://bit.ly/3lWjRlr' target='_blank'>here</a>"
      ],
      "text/plain": [
       "<IPython.core.display.Markdown object>"
      ]
     },
     "metadata": {},
     "output_type": "display_data"
    }
   ],
   "source": [
    "report = dp.Report(\n",
    "    # header material\n",
    "    banner_block,\n",
    "    \"# Classifier Performance Dashboard\",\n",
    "    \"This dashboard highlights the performance of multiple classifiers on the [Optical Recognition of Handwritten Digits Data Set](https://archive.ics.uci.edu/ml/datasets/Optical+Recognition+of+Handwritten+Digits).\",\n",
    "    \n",
    "    # performance overview\n",
    "    trade_offs_block,\n",
    "    \n",
    "    # performance breakdown page per classifier\n",
    "    dp.Select(\n",
    "        blocks=classifier_pages.values(),\n",
    "        type=dp.SelectType.TABS,\n",
    "    ),\n",
    ")\n",
    "\n",
    "report.save(path=\"template.html\", open=True)"
   ]
  }
 ],
 "metadata": {
  "kernelspec": {
   "display_name": "Python 3.10.5 ('.venv': poetry)",
   "language": "python",
   "name": "python3"
  },
  "language_info": {
   "codemirror_mode": {
    "name": "ipython",
    "version": 3
   },
   "file_extension": ".py",
   "mimetype": "text/x-python",
   "name": "python",
   "nbconvert_exporter": "python",
   "pygments_lexer": "ipython3",
   "version": "3.10.5"
  },
  "vscode": {
   "interpreter": {
    "hash": "e8da93a35a0fd8e6d7fcda094631312fb118baa6d6dfe3e53c37779d0823dbc9"
   }
  }
 },
 "nbformat": 4,
 "nbformat_minor": 5
}
